{
 "cells": [
  {
   "cell_type": "code",
   "execution_count": 4,
   "metadata": {
    "id": "bUaTQRASwYTR"
   },
   "outputs": [],
   "source": [
    "# Import Necessary Libraries\n",
    "import numpy as np\n",
    "import pandas as pd\n",
    "import xgboost as xgb\n",
    "import matplotlib.pyplot as plt # Import matplotlib.pyplot and assign it to plt\n",
    "                                 # This makes the 'plt' object available for use"
   ]
  },
  {
   "cell_type": "code",
   "execution_count": 5,
   "metadata": {
    "colab": {
     "base_uri": "https://localhost:8080/",
     "height": 206
    },
    "id": "MFcwRaUNwmGR",
    "outputId": "4c9fea90-63de-47ad-b382-9dc0727303c4"
   },
   "outputs": [
    {
     "data": {
      "application/vnd.google.colaboratory.intrinsic+json": {
       "summary": "{\n  \"name\": \"data\",\n  \"rows\": 2522,\n  \"fields\": [\n    {\n      \"column\": \"Date\",\n      \"properties\": {\n        \"dtype\": \"object\",\n        \"num_unique_values\": 2522,\n        \"samples\": [\n          \"9/30/15\",\n          \"11/16/18\",\n          \"4/22/19\"\n        ],\n        \"semantic_type\": \"\",\n        \"description\": \"\"\n      }\n    },\n    {\n      \"column\": \"Close\",\n      \"properties\": {\n        \"dtype\": \"number\",\n        \"std\": 107.17697418392355,\n        \"min\": 182.86,\n        \"max\": 607.81,\n        \"num_unique_values\": 2404,\n        \"samples\": [\n          204.56,\n          503.49,\n          264.98\n        ],\n        \"semantic_type\": \"\",\n        \"description\": \"\"\n      }\n    },\n    {\n      \"column\": \"Open\",\n      \"properties\": {\n        \"dtype\": \"number\",\n        \"std\": 107.18463510069687,\n        \"min\": 182.34,\n        \"max\": 607.69,\n        \"num_unique_values\": 2403,\n        \"samples\": [\n          204.11,\n          501.78,\n          267.26\n        ],\n        \"semantic_type\": \"\",\n        \"description\": \"\"\n      }\n    },\n    {\n      \"column\": \"High\",\n      \"properties\": {\n        \"dtype\": \"number\",\n        \"std\": 107.68575185067517,\n        \"min\": 184.1,\n        \"max\": 609.07,\n        \"num_unique_values\": 2381,\n        \"samples\": [\n          378.46,\n          302.23,\n          345.99\n        ],\n        \"semantic_type\": \"\",\n        \"description\": \"\"\n      }\n    },\n    {\n      \"column\": \"Low\",\n      \"properties\": {\n        \"dtype\": \"number\",\n        \"std\": 106.5944358584516,\n        \"min\": 181.02,\n        \"max\": 607.02,\n        \"num_unique_values\": 2387,\n        \"samples\": [\n          448.49,\n          264.7,\n          296.99\n        ],\n        \"semantic_type\": \"\",\n        \"description\": \"\"\n      }\n    },\n    {\n      \"column\": \"Volume\",\n      \"properties\": {\n        \"dtype\": \"number\",\n        \"std\": 45160186.35206689,\n        \"min\": 20270000.0,\n        \"max\": 507240000.0,\n        \"num_unique_values\": 2231,\n        \"samples\": [\n          38740000.0,\n          49460000.0,\n          74840000.0\n        ],\n        \"semantic_type\": \"\",\n        \"description\": \"\"\n      }\n    },\n    {\n      \"column\": \"Change %\",\n      \"properties\": {\n        \"dtype\": \"category\",\n        \"num_unique_values\": 494,\n        \"samples\": [\n          \"-2.08%\",\n          \"-0.03%\",\n          \"-0.59%\"\n        ],\n        \"semantic_type\": \"\",\n        \"description\": \"\"\n      }\n    }\n  ]\n}",
       "type": "dataframe",
       "variable_name": "data"
      },
      "text/html": [
       "\n",
       "  <div id=\"df-469854ec-fd5e-432a-8b0d-527a124c951c\" class=\"colab-df-container\">\n",
       "    <div>\n",
       "<style scoped>\n",
       "    .dataframe tbody tr th:only-of-type {\n",
       "        vertical-align: middle;\n",
       "    }\n",
       "\n",
       "    .dataframe tbody tr th {\n",
       "        vertical-align: top;\n",
       "    }\n",
       "\n",
       "    .dataframe thead th {\n",
       "        text-align: right;\n",
       "    }\n",
       "</style>\n",
       "<table border=\"1\" class=\"dataframe\">\n",
       "  <thead>\n",
       "    <tr style=\"text-align: right;\">\n",
       "      <th></th>\n",
       "      <th>Date</th>\n",
       "      <th>Close</th>\n",
       "      <th>Open</th>\n",
       "      <th>High</th>\n",
       "      <th>Low</th>\n",
       "      <th>Volume</th>\n",
       "      <th>Change %</th>\n",
       "    </tr>\n",
       "  </thead>\n",
       "  <tbody>\n",
       "    <tr>\n",
       "      <th>0</th>\n",
       "      <td>12/18/14</td>\n",
       "      <td>206.78</td>\n",
       "      <td>204.74</td>\n",
       "      <td>212.97</td>\n",
       "      <td>203.92</td>\n",
       "      <td>257630000.0</td>\n",
       "      <td>2.47%</td>\n",
       "    </tr>\n",
       "    <tr>\n",
       "      <th>1</th>\n",
       "      <td>12/19/14</td>\n",
       "      <td>206.52</td>\n",
       "      <td>206.43</td>\n",
       "      <td>207.33</td>\n",
       "      <td>205.61</td>\n",
       "      <td>245080000.0</td>\n",
       "      <td>-0.13%</td>\n",
       "    </tr>\n",
       "    <tr>\n",
       "      <th>2</th>\n",
       "      <td>12/22/14</td>\n",
       "      <td>207.47</td>\n",
       "      <td>206.75</td>\n",
       "      <td>207.47</td>\n",
       "      <td>206.46</td>\n",
       "      <td>148320000.0</td>\n",
       "      <td>0.46%</td>\n",
       "    </tr>\n",
       "    <tr>\n",
       "      <th>3</th>\n",
       "      <td>12/23/14</td>\n",
       "      <td>207.75</td>\n",
       "      <td>208.17</td>\n",
       "      <td>208.23</td>\n",
       "      <td>207.40</td>\n",
       "      <td>122170000.0</td>\n",
       "      <td>0.13%</td>\n",
       "    </tr>\n",
       "    <tr>\n",
       "      <th>4</th>\n",
       "      <td>12/24/14</td>\n",
       "      <td>207.77</td>\n",
       "      <td>208.02</td>\n",
       "      <td>208.34</td>\n",
       "      <td>207.72</td>\n",
       "      <td>42960000.0</td>\n",
       "      <td>0.01%</td>\n",
       "    </tr>\n",
       "  </tbody>\n",
       "</table>\n",
       "</div>\n",
       "    <div class=\"colab-df-buttons\">\n",
       "\n",
       "  <div class=\"colab-df-container\">\n",
       "    <button class=\"colab-df-convert\" onclick=\"convertToInteractive('df-469854ec-fd5e-432a-8b0d-527a124c951c')\"\n",
       "            title=\"Convert this dataframe to an interactive table.\"\n",
       "            style=\"display:none;\">\n",
       "\n",
       "  <svg xmlns=\"http://www.w3.org/2000/svg\" height=\"24px\" viewBox=\"0 -960 960 960\">\n",
       "    <path d=\"M120-120v-720h720v720H120Zm60-500h600v-160H180v160Zm220 220h160v-160H400v160Zm0 220h160v-160H400v160ZM180-400h160v-160H180v160Zm440 0h160v-160H620v160ZM180-180h160v-160H180v160Zm440 0h160v-160H620v160Z\"/>\n",
       "  </svg>\n",
       "    </button>\n",
       "\n",
       "  <style>\n",
       "    .colab-df-container {\n",
       "      display:flex;\n",
       "      gap: 12px;\n",
       "    }\n",
       "\n",
       "    .colab-df-convert {\n",
       "      background-color: #E8F0FE;\n",
       "      border: none;\n",
       "      border-radius: 50%;\n",
       "      cursor: pointer;\n",
       "      display: none;\n",
       "      fill: #1967D2;\n",
       "      height: 32px;\n",
       "      padding: 0 0 0 0;\n",
       "      width: 32px;\n",
       "    }\n",
       "\n",
       "    .colab-df-convert:hover {\n",
       "      background-color: #E2EBFA;\n",
       "      box-shadow: 0px 1px 2px rgba(60, 64, 67, 0.3), 0px 1px 3px 1px rgba(60, 64, 67, 0.15);\n",
       "      fill: #174EA6;\n",
       "    }\n",
       "\n",
       "    .colab-df-buttons div {\n",
       "      margin-bottom: 4px;\n",
       "    }\n",
       "\n",
       "    [theme=dark] .colab-df-convert {\n",
       "      background-color: #3B4455;\n",
       "      fill: #D2E3FC;\n",
       "    }\n",
       "\n",
       "    [theme=dark] .colab-df-convert:hover {\n",
       "      background-color: #434B5C;\n",
       "      box-shadow: 0px 1px 3px 1px rgba(0, 0, 0, 0.15);\n",
       "      filter: drop-shadow(0px 1px 2px rgba(0, 0, 0, 0.3));\n",
       "      fill: #FFFFFF;\n",
       "    }\n",
       "  </style>\n",
       "\n",
       "    <script>\n",
       "      const buttonEl =\n",
       "        document.querySelector('#df-469854ec-fd5e-432a-8b0d-527a124c951c button.colab-df-convert');\n",
       "      buttonEl.style.display =\n",
       "        google.colab.kernel.accessAllowed ? 'block' : 'none';\n",
       "\n",
       "      async function convertToInteractive(key) {\n",
       "        const element = document.querySelector('#df-469854ec-fd5e-432a-8b0d-527a124c951c');\n",
       "        const dataTable =\n",
       "          await google.colab.kernel.invokeFunction('convertToInteractive',\n",
       "                                                    [key], {});\n",
       "        if (!dataTable) return;\n",
       "\n",
       "        const docLinkHtml = 'Like what you see? Visit the ' +\n",
       "          '<a target=\"_blank\" href=https://colab.research.google.com/notebooks/data_table.ipynb>data table notebook</a>'\n",
       "          + ' to learn more about interactive tables.';\n",
       "        element.innerHTML = '';\n",
       "        dataTable['output_type'] = 'display_data';\n",
       "        await google.colab.output.renderOutput(dataTable, element);\n",
       "        const docLink = document.createElement('div');\n",
       "        docLink.innerHTML = docLinkHtml;\n",
       "        element.appendChild(docLink);\n",
       "      }\n",
       "    </script>\n",
       "  </div>\n",
       "\n",
       "\n",
       "<div id=\"df-67f50b49-f315-4f3c-b317-c4baf5b9cdd0\">\n",
       "  <button class=\"colab-df-quickchart\" onclick=\"quickchart('df-67f50b49-f315-4f3c-b317-c4baf5b9cdd0')\"\n",
       "            title=\"Suggest charts\"\n",
       "            style=\"display:none;\">\n",
       "\n",
       "<svg xmlns=\"http://www.w3.org/2000/svg\" height=\"24px\"viewBox=\"0 0 24 24\"\n",
       "     width=\"24px\">\n",
       "    <g>\n",
       "        <path d=\"M19 3H5c-1.1 0-2 .9-2 2v14c0 1.1.9 2 2 2h14c1.1 0 2-.9 2-2V5c0-1.1-.9-2-2-2zM9 17H7v-7h2v7zm4 0h-2V7h2v10zm4 0h-2v-4h2v4z\"/>\n",
       "    </g>\n",
       "</svg>\n",
       "  </button>\n",
       "\n",
       "<style>\n",
       "  .colab-df-quickchart {\n",
       "      --bg-color: #E8F0FE;\n",
       "      --fill-color: #1967D2;\n",
       "      --hover-bg-color: #E2EBFA;\n",
       "      --hover-fill-color: #174EA6;\n",
       "      --disabled-fill-color: #AAA;\n",
       "      --disabled-bg-color: #DDD;\n",
       "  }\n",
       "\n",
       "  [theme=dark] .colab-df-quickchart {\n",
       "      --bg-color: #3B4455;\n",
       "      --fill-color: #D2E3FC;\n",
       "      --hover-bg-color: #434B5C;\n",
       "      --hover-fill-color: #FFFFFF;\n",
       "      --disabled-bg-color: #3B4455;\n",
       "      --disabled-fill-color: #666;\n",
       "  }\n",
       "\n",
       "  .colab-df-quickchart {\n",
       "    background-color: var(--bg-color);\n",
       "    border: none;\n",
       "    border-radius: 50%;\n",
       "    cursor: pointer;\n",
       "    display: none;\n",
       "    fill: var(--fill-color);\n",
       "    height: 32px;\n",
       "    padding: 0;\n",
       "    width: 32px;\n",
       "  }\n",
       "\n",
       "  .colab-df-quickchart:hover {\n",
       "    background-color: var(--hover-bg-color);\n",
       "    box-shadow: 0 1px 2px rgba(60, 64, 67, 0.3), 0 1px 3px 1px rgba(60, 64, 67, 0.15);\n",
       "    fill: var(--button-hover-fill-color);\n",
       "  }\n",
       "\n",
       "  .colab-df-quickchart-complete:disabled,\n",
       "  .colab-df-quickchart-complete:disabled:hover {\n",
       "    background-color: var(--disabled-bg-color);\n",
       "    fill: var(--disabled-fill-color);\n",
       "    box-shadow: none;\n",
       "  }\n",
       "\n",
       "  .colab-df-spinner {\n",
       "    border: 2px solid var(--fill-color);\n",
       "    border-color: transparent;\n",
       "    border-bottom-color: var(--fill-color);\n",
       "    animation:\n",
       "      spin 1s steps(1) infinite;\n",
       "  }\n",
       "\n",
       "  @keyframes spin {\n",
       "    0% {\n",
       "      border-color: transparent;\n",
       "      border-bottom-color: var(--fill-color);\n",
       "      border-left-color: var(--fill-color);\n",
       "    }\n",
       "    20% {\n",
       "      border-color: transparent;\n",
       "      border-left-color: var(--fill-color);\n",
       "      border-top-color: var(--fill-color);\n",
       "    }\n",
       "    30% {\n",
       "      border-color: transparent;\n",
       "      border-left-color: var(--fill-color);\n",
       "      border-top-color: var(--fill-color);\n",
       "      border-right-color: var(--fill-color);\n",
       "    }\n",
       "    40% {\n",
       "      border-color: transparent;\n",
       "      border-right-color: var(--fill-color);\n",
       "      border-top-color: var(--fill-color);\n",
       "    }\n",
       "    60% {\n",
       "      border-color: transparent;\n",
       "      border-right-color: var(--fill-color);\n",
       "    }\n",
       "    80% {\n",
       "      border-color: transparent;\n",
       "      border-right-color: var(--fill-color);\n",
       "      border-bottom-color: var(--fill-color);\n",
       "    }\n",
       "    90% {\n",
       "      border-color: transparent;\n",
       "      border-bottom-color: var(--fill-color);\n",
       "    }\n",
       "  }\n",
       "</style>\n",
       "\n",
       "  <script>\n",
       "    async function quickchart(key) {\n",
       "      const quickchartButtonEl =\n",
       "        document.querySelector('#' + key + ' button');\n",
       "      quickchartButtonEl.disabled = true;  // To prevent multiple clicks.\n",
       "      quickchartButtonEl.classList.add('colab-df-spinner');\n",
       "      try {\n",
       "        const charts = await google.colab.kernel.invokeFunction(\n",
       "            'suggestCharts', [key], {});\n",
       "      } catch (error) {\n",
       "        console.error('Error during call to suggestCharts:', error);\n",
       "      }\n",
       "      quickchartButtonEl.classList.remove('colab-df-spinner');\n",
       "      quickchartButtonEl.classList.add('colab-df-quickchart-complete');\n",
       "    }\n",
       "    (() => {\n",
       "      let quickchartButtonEl =\n",
       "        document.querySelector('#df-67f50b49-f315-4f3c-b317-c4baf5b9cdd0 button');\n",
       "      quickchartButtonEl.style.display =\n",
       "        google.colab.kernel.accessAllowed ? 'block' : 'none';\n",
       "    })();\n",
       "  </script>\n",
       "</div>\n",
       "\n",
       "    </div>\n",
       "  </div>\n"
      ],
      "text/plain": [
       "       Date   Close    Open    High     Low       Volume Change %\n",
       "0  12/18/14  206.78  204.74  212.97  203.92  257630000.0    2.47%\n",
       "1  12/19/14  206.52  206.43  207.33  205.61  245080000.0   -0.13%\n",
       "2  12/22/14  207.47  206.75  207.47  206.46  148320000.0    0.46%\n",
       "3  12/23/14  207.75  208.17  208.23  207.40  122170000.0    0.13%\n",
       "4  12/24/14  207.77  208.02  208.34  207.72   42960000.0    0.01%"
      ]
     },
     "execution_count": 5,
     "metadata": {},
     "output_type": "execute_result"
    }
   ],
   "source": [
    "# Load the Dataset\n",
    "data = pd.read_csv('SPY.csv')\n",
    "data['Volume'] = data['Volume'].astype(str)  # Convert to string\n",
    "data['Volume'] = data['Volume'].str.replace('M', '')  # Remove 'M'\n",
    "data['Volume'] = data['Volume'].astype(float) * 1e6   # Convert to float and scale\n",
    "data.head()\n",
    "\n"
   ]
  },
  {
   "cell_type": "code",
   "execution_count": 6,
   "metadata": {
    "colab": {
     "base_uri": "https://localhost:8080/",
     "height": 430
    },
    "id": "HDfDaWtBwqXU",
    "outputId": "b592917d-9632-4cd2-ba55-55e18e7446b1"
   },
   "outputs": [
    {
     "data": {
      "image/png": "[encoded data removed]",
      "text/plain": [
       "<Figure size 640x480 with 1 Axes>"
      ]
     },
     "metadata": {},
     "output_type": "display_data"
    }
   ],
   "source": [
    "# Visualize the Close Data\n",
    "data['Close'].plot()\n",
    "plt.show()"
   ]
  },
  {
   "cell_type": "code",
   "execution_count": 135,
   "metadata": {
    "id": "Te3i09Ucw27l"
   },
   "outputs": [],
   "source": [
    "# Split Data into Training and Testing Sets\n",
    "train_data = data.iloc[:int(0.99 * len(data)), :]\n",
    "test_data = data.iloc[int(0.99 * len(data)):, :]\n",
    "\n"
   ]
  },
  {
   "cell_type": "code",
   "execution_count": 143,
   "metadata": {
    "colab": {
     "base_uri": "https://localhost:8080/"
    },
    "collapsed": true,
    "id": "lwmLZ5ttw6ZF",
    "outputId": "25301baa-9cea-4b4e-b37b-d9dbcac87dda"
   },
   "outputs": [
    {
     "name": "stderr",
     "output_type": "stream",
     "text": [
      "<ipython-input-143-084b008d04f3>:6: FutureWarning: A value is trying to be set on a copy of a DataFrame or Series through chained assignment using an inplace method.\n",
      "The behavior will change in pandas 3.0. This inplace method will never work because the intermediate object on which we are setting values always behaves as a copy.\n",
      "\n",
      "For example, when doing 'df[col].method(value, inplace=True)', try using 'df.method({col: value}, inplace=True)' or df[col] = df[col].method(value) instead, to perform the operation inplace on the original object.\n",
      "\n",
      "\n",
      "  data['Volume'].fillna(data['Volume'].median(), inplace=True)\n"
     ]
    }
   ],
   "source": [
    "# Convert 'Volume' to numeric (remove 'M' and scale to actual numbers)\n",
    "data['Volume'] = data['Volume'].astype(str).str.replace('M', '').astype(float) * 1e6\n",
    "\n",
    "\n",
    "# Fill missing values in 'Volume' with the median value\n",
    "data['Volume'].fillna(data['Volume'].median(), inplace=True)\n",
    "\n",
    "# Feature Engineering\n",
    "data['High-Low'] = data['High'] - data['Low']  # Price range for the day\n",
    "data['Open-Close'] = data['Open'] - data['Close']  # Difference between open and close prices\n",
    "data['SMA_5'] = data['Close'].rolling(window=5).mean()  # 5-day Simple Moving Average\n",
    "data['SMA_20'] = data['Close'].rolling(window=20).mean()  # 20-day Simple Moving Average\n",
    "\n",
    "# Define the features and target\n",
    "features = ['Open', 'Volume', 'High-Low', 'Open-Close', 'SMA_5', 'SMA_20']\n",
    "target = 'Close'\n"
   ]
  },
  {
   "cell_type": "code",
   "execution_count": 152,
   "metadata": {
    "id": "WM5MfaIBOWXk"
   },
   "outputs": [],
   "source": [
    "# Replace infinity with NaN in numeric columns only\n",
    "train_data[train_data.select_dtypes(include=[np.number]).columns] = (\n",
    "    train_data.select_dtypes(include=[np.number]).replace([np.inf, -np.inf], np.nan)\n",
    ")\n",
    "test_data[test_data.select_dtypes(include=[np.number]).columns] = (\n",
    "    test_data.select_dtypes(include=[np.number]).replace([np.inf, -np.inf], np.nan)\n",
    ")\n",
    "\n",
    "# Fill NaN values in numeric columns only\n",
    "train_data[train_data.select_dtypes(include=[np.number]).columns] = (\n",
    "    train_data.select_dtypes(include=[np.number]).fillna(train_data.median(numeric_only=True))\n",
    ")\n",
    "test_data[test_data.select_dtypes(include=[np.number]).columns] = (\n",
    "    test_data.select_dtypes(include=[np.number]).fillna(test_data.median(numeric_only=True))\n",
    ")\n",
    "\n",
    "\n",
    "# Replace inf and -inf with NaN\n",
    "train_data.replace([np.inf, -np.inf], np.nan, inplace=True)\n",
    "\n",
    "# Fill NaN values with column median (numeric columns only)\n",
    "numeric_columns = train_data.select_dtypes(include=[np.number]).columns\n",
    "train_data[numeric_columns] = train_data[numeric_columns].fillna(train_data[numeric_columns].median())\n",
    "\n",
    "# Replace inf and -inf in target column\n",
    "train_data[target] = train_data[target].replace([np.inf, -np.inf], np.nan)\n",
    "\n",
    "# Fill NaN values in the target column with its median\n",
    "train_data[target] = train_data[target].fillna(train_data[target].median())\n",
    "\n",
    "\n"
   ]
  },
  {
   "cell_type": "code",
   "execution_count": 158,
   "metadata": {
    "id": "v75iW4cHQAnW"
   },
   "outputs": [],
   "source": [
    "# Replace Inf and -Inf with NaN in features and target\n",
    "train_data[features] = train_data[features].replace([np.inf, -np.inf], np.nan)\n",
    "train_data[target] = train_data[target].replace([np.inf, -np.inf], np.nan)\n",
    "\n",
    "# Fill NaN values with median\n",
    "train_data[features] = train_data[features].fillna(train_data[features].median())\n",
    "train_data[target] = train_data[target].fillna(train_data[target].median())\n",
    "\n",
    "# Clip extreme values in features\n",
    "upper_limit = train_data[features].quantile(0.99)\n",
    "lower_limit = train_data[features].quantile(0.01)\n",
    "train_data[features] = train_data[features].clip(lower=lower_limit, upper=upper_limit, axis=1)\n",
    "\n",
    "# Optional: Clip extreme values in target (if applicable)\n",
    "target_upper_limit = train_data[target].quantile(0.99)\n",
    "target_lower_limit = train_data[target].quantile(0.01)\n",
    "train_data[target] = train_data[target].clip(lower=target_lower_limit, upper=target_upper_limit)\n",
    "\n"
   ]
  },
  {
   "cell_type": "code",
   "execution_count": 166,
   "metadata": {
    "id": "RtGfM4UsR6T1"
   },
   "outputs": [],
   "source": [
    "test_data[features] = test_data[features].replace([np.inf, -np.inf], np.nan)\n",
    "test_data[features] = test_data[features].fillna(test_data[features].median())\n"
   ]
  },
  {
   "cell_type": "code",
   "execution_count": 168,
   "metadata": {
    "colab": {
     "base_uri": "https://localhost:8080/"
    },
    "id": "gE7u3u-ER6Vu",
    "outputId": "04f2e7ab-04e9-4ee9-af13-172a52ac436a"
   },
   "outputs": [
    {
     "name": "stdout",
     "output_type": "stream",
     "text": [
      "              Open       Volume     High-Low   Open-Close        SMA_5  \\\n",
      "count  2421.000000  2421.000000  2421.000000  2421.000000  2421.000000   \n",
      "mean    335.102677     0.000000     3.775903    -0.045105   334.996922   \n",
      "std     103.271965     1.000207     2.838099     2.686267   102.950142   \n",
      "min     191.163600    -1.242485     0.620000    -7.350000   191.020480   \n",
      "25%     246.740000    -0.657760     1.680000    -1.350000   247.042000   \n",
      "50%     303.430000    -0.242369     2.960000    -0.150000   304.182000   \n",
      "75%     419.770000     0.335806     4.920000     0.980000   419.162000   \n",
      "max     572.868400     4.530118    14.559200     9.195200   571.779120   \n",
      "\n",
      "            SMA_20  \n",
      "count  2421.000000  \n",
      "mean    334.429346  \n",
      "std     101.671444  \n",
      "min     192.428880  \n",
      "25%     249.059000  \n",
      "50%     303.969250  \n",
      "75%     417.250500  \n",
      "max     568.219540  \n"
     ]
    }
   ],
   "source": [
    "from sklearn.preprocessing import StandardScaler\n",
    "\n",
    "scaler = StandardScaler()\n",
    "train_data['Volume'] = scaler.fit_transform(train_data[['Volume']])\n",
    "test_data['Volume'] = scaler.transform(test_data[['Volume']])\n",
    "\n",
    "# Replace extreme values in Volume\n",
    "train_data = train_data[train_data['Volume'] < 1e10]  # Filter out excessively large values\n",
    "\n",
    "print(train_data[features].describe())\n",
    "\n"
   ]
  },
  {
   "cell_type": "code",
   "execution_count": 172,
   "metadata": {
    "colab": {
     "base_uri": "https://localhost:8080/"
    },
    "id": "SGE2m-94SyII",
    "outputId": "77210846-3a9e-4aaf-b45b-7a57aa67046b"
   },
   "outputs": [
    {
     "name": "stdout",
     "output_type": "stream",
     "text": [
      "Requirement already satisfied: scikit-learn in /usr/local/lib/python3.10/dist-packages (1.6.0)\n",
      "Requirement already satisfied: numpy>=1.19.5 in /usr/local/lib/python3.10/dist-packages (from scikit-learn) (1.26.4)\n",
      "Requirement already satisfied: scipy>=1.6.0 in /usr/local/lib/python3.10/dist-packages (from scikit-learn) (1.13.1)\n",
      "Requirement already satisfied: joblib>=1.2.0 in /usr/local/lib/python3.10/dist-packages (from scikit-learn) (1.4.2)\n",
      "Requirement already satisfied: threadpoolctl>=3.1.0 in /usr/local/lib/python3.10/dist-packages (from scikit-learn) (3.5.0)\n"
     ]
    }
   ],
   "source": [
    "!pip install -U scikit-learn\n"
   ]
  },
  {
   "cell_type": "code",
   "execution_count": 173,
   "metadata": {
    "colab": {
     "base_uri": "https://localhost:8080/"
    },
    "id": "hez5jbdIS9Nz",
    "outputId": "a5dc0064-5737-4383-87ed-e5e8d202d2ce"
   },
   "outputs": [
    {
     "name": "stdout",
     "output_type": "stream",
     "text": [
      "[ 142.89313  -221.88446    59.731777  194.23416   258.3086     38.311882\n",
      "  159.2278   -130.0051    -13.41709   -56.90638    68.06592   -83.30372\n",
      "  -52.74189    61.16903   -27.994747 -146.38425   -29.990528  108.397125\n",
      "  -23.92834    28.13556 ]\n"
     ]
    }
   ],
   "source": [
    "from xgboost import XGBRegressor\n",
    "from sklearn.model_selection import train_test_split\n",
    "from sklearn.datasets import make_regression\n",
    "\n",
    "# Generate sample data\n",
    "X, y = make_regression(n_samples=100, n_features=5, noise=0.1, random_state=42)\n",
    "X_train, X_test, y_train, y_test = train_test_split(X, y, test_size=0.2, random_state=42)\n",
    "\n",
    "# Fit the XGBoost model\n",
    "model = XGBRegressor(random_state=42)\n",
    "model.fit(X_train, y_train)\n",
    "\n",
    "# Predict\n",
    "predictions = model.predict(X_test)\n",
    "print(predictions)\n"
   ]
  },
  {
   "cell_type": "code",
   "execution_count": 178,
   "metadata": {
    "colab": {
     "base_uri": "https://localhost:8080/"
    },
    "id": "1kpZ--vTTFL_",
    "outputId": "e2defba2-c750-474f-96b9-9e081108bd7f"
   },
   "outputs": [
    {
     "name": "stdout",
     "output_type": "stream",
     "text": [
      "[572.22504 572.2308  571.3709  572.48315 571.392   571.4897  571.09424\n",
      " 571.77    572.4392  572.39746 572.3881  572.75964 570.39526 570.3131\n",
      " 572.3138  572.7314  570.4711  572.64307 572.64307 572.31226 572.19617\n",
      " 572.1727  572.5205  572.0939  566.3845 ]\n"
     ]
    }
   ],
   "source": [
    "# Model initialization\n",
    "model = XGBRegressor(\n",
    "    base_score=0.5,   # Initial prediction score, typically the mean of the target variable\n",
    "    booster='gbtree',   # Type of booster to use ('gbtree', 'gblinear', or 'dart')\n",
    "    learning_rate=0.1,   # Step size shrinkage to prevent overfitting\n",
    "    max_depth=6,        # Maximum depth of a tree; controls model complexity\n",
    "    n_estimators=100,   # Number of boosting rounds (trees)\n",
    "    random_state=42   # Seed for reproducibility\n",
    ")\n",
    "\n",
    "# Train the XGBoost model using the training data\n",
    "model.fit(train_data[features], train_data[target])\n",
    "\n",
    "# Make predictions on the test data\n",
    "predictions = model.predict(test_data[features])\n",
    "\n",
    "# Print the predictions to verify results\n",
    "print(predictions)\n",
    "\n"
   ]
  },
  {
   "cell_type": "code",
   "execution_count": 176,
   "metadata": {
    "colab": {
     "base_uri": "https://localhost:8080/"
    },
    "id": "Izlxg-lzJ6n1",
    "outputId": "37fa736c-a26e-4c86-e0e0-fc9673a5f7d9"
   },
   "outputs": [
    {
     "name": "stdout",
     "output_type": "stream",
     "text": [
      "Model Predictions: [572.22504 572.2308  571.3709  572.48315 571.392   571.4897  571.09424\n",
      " 571.77    572.4392  572.39746 572.3881  572.75964 570.39526 570.3131\n",
      " 572.3138  572.7314  570.4711  572.64307 572.64307 572.31226 572.19617\n",
      " 572.1727  572.5205  572.0939  566.3845 ]\n"
     ]
    }
   ],
   "source": [
    "# Make and show the predictions on train_data and test_data\n",
    "predictions = model.predict(test_data[features])\n",
    "print(\"Model Predictions:\", predictions)\n"
   ]
  },
  {
   "cell_type": "code",
   "execution_count": 177,
   "metadata": {
    "colab": {
     "base_uri": "https://localhost:8080/"
    },
    "id": "kJILpW1CJ6sN",
    "outputId": "a222c9ab-78af-4d8c-aef8-a7b29f4bfddd"
   },
   "outputs": [
    {
     "name": "stdout",
     "output_type": "stream",
     "text": [
      "Actual Values:\n",
      "2497    597.19\n",
      "2498    593.35\n",
      "2499    585.75\n",
      "2500    588.15\n",
      "2501    590.30\n",
      "2502    590.50\n",
      "2503    593.67\n",
      "2504    595.51\n",
      "2505    597.53\n",
      "2506    600.65\n",
      "2507    598.83\n",
      "2508    602.55\n",
      "2509    603.63\n",
      "2510    603.91\n",
      "2511    607.66\n",
      "2512    606.66\n",
      "2513    607.81\n",
      "2514    604.68\n",
      "2515    602.80\n",
      "2516    607.46\n",
      "2517    604.33\n",
      "2518    604.21\n",
      "2519    606.79\n",
      "2520    604.29\n",
      "2521    586.28\n",
      "Name: Close, dtype: float64\n"
     ]
    }
   ],
   "source": [
    "# Show the actual target values\n",
    "print('Actual Values:')\n",
    "print(test_data[target])"
   ]
  },
  {
   "cell_type": "code",
   "execution_count": 134,
   "metadata": {
    "colab": {
     "base_uri": "https://localhost:8080/"
    },
    "id": "4L1V6nqlLXIE",
    "outputId": "3088ae68-5466-414a-bba9-80af80e3fb97"
   },
   "outputs": [
    {
     "name": "stdout",
     "output_type": "stream",
     "text": [
      "Accuracy:\n",
      "0.9998165441058084\n"
     ]
    }
   ],
   "source": [
    "# Show the models accuracy\n",
    "accuracy = model.score(test_data[features], test_data[target])\n",
    "print('Accuracy:')\n",
    "print(accuracy)"
   ]
  }
 ],
 "metadata": {
  "colab": {
   "provenance": []
  },
  "kernelspec": {
   "display_name": "Python 3",
   "name": "python3"
  },
  "language_info": {
   "name": "python"
  }
 },
 "nbformat": 4,
 "nbformat_minor": 0
}
